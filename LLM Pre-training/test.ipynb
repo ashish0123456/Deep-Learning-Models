{
 "cells": [
  {
   "cell_type": "code",
   "execution_count": 2,
   "metadata": {},
   "outputs": [],
   "source": [
    "import tensorflow_datasets as tfds"
   ]
  },
  {
   "cell_type": "code",
   "execution_count": 11,
   "metadata": {},
   "outputs": [],
   "source": [
    "data = tfds.load('piqa')"
   ]
  },
  {
   "cell_type": "code",
   "execution_count": 14,
   "metadata": {},
   "outputs": [],
   "source": [
    "train_ds, valid_ds = data['train'], data['validation']"
   ]
  },
  {
   "cell_type": "code",
   "execution_count": 16,
   "metadata": {},
   "outputs": [
    {
     "name": "stdout",
     "output_type": "stream",
     "text": [
      "tf.Tensor(b'Remove smell from garbage disposal.', shape=(), dtype=string) tf.Tensor(1, shape=(), dtype=int64) tf.Tensor(b'Create soda ice cubes and grind through disposal.', shape=(), dtype=string) tf.Tensor(b'Create vinegar ice cubes and grind through disposal.', shape=(), dtype=string)\n"
     ]
    }
   ],
   "source": [
    "for text in train_ds.take(1):\n",
    "    print(text['goal'], text['label'], text['sol1'], text['sol2'])"
   ]
  },
  {
   "cell_type": "code",
   "execution_count": 17,
   "metadata": {},
   "outputs": [],
   "source": [
    "train_ds = train_ds.map( lambda sample : (sample['goal'], sample['sol1']))\n",
    "valid_ds = valid_ds.map(lambda sample : (sample['goal'], sample['sol1']))"
   ]
  },
  {
   "cell_type": "code",
   "execution_count": null,
   "metadata": {},
   "outputs": [],
   "source": []
  }
 ],
 "metadata": {
  "kernelspec": {
   "display_name": "venv",
   "language": "python",
   "name": "python3"
  },
  "language_info": {
   "codemirror_mode": {
    "name": "ipython",
    "version": 3
   },
   "file_extension": ".py",
   "mimetype": "text/x-python",
   "name": "python",
   "nbconvert_exporter": "python",
   "pygments_lexer": "ipython3",
   "version": "3.12.2"
  }
 },
 "nbformat": 4,
 "nbformat_minor": 2
}
